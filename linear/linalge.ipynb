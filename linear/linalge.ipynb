{
 "cells": [
  {
   "cell_type": "markdown",
   "metadata": {},
   "source": [
    "广播机制\n",
    "\n",
    "pytorch中的广播机制和numpy中的广播机制一样, 因为都是数组的广播机制\n",
    "\n",
    "1)程序会自动执行操作使得A.shape==B.shape, \n",
    "\n",
    "2)对应位置进行相加\n",
    "运算结果的shape是:A.shape和B.shape对应位置的最大值,比如:A.shape=(1,9,4),B.shape=(15,1,4),那么A+B的shape是(15,9,4)\n",
    "\n",
    "有两种情况能够进行广播\n",
    "\n",
    "A.ndim > B.ndim, 并且A.shape最后几个元素包含B.shape, 比如下面三种情况, 注意不要混淆ndim和shape这两个基本概念\n",
    "A.shape=(2,3,4,5), B.shape=(3,4,5)\n",
    "A.shape=(2,3,4,5), B.shape=(4,5)\n",
    "A.shape=(2,3,4,5), B.shape=(5)\n",
    "\n",
    "A.ndim == B.ndim, 并且A.shape和B.shape对应位置的元素要么相同要么其中一个是1, 比如\n",
    "A.shape=(1,9,4), B.shape=(15,1,4)\n",
    "A.shape=(1,9,4), B.shape=(15,1,1)\n"
   ]
  },
  {
   "cell_type": "code",
   "execution_count": 6,
   "metadata": {},
   "outputs": [
    {
     "name": "stdout",
     "output_type": "stream",
     "text": [
      "tensor([0., 0., 0.]) torch.Size([3])\n",
      "tensor([[-0.3940, -0.6602, -0.5950],\n",
      "        [ 0.6206,  0.0314,  0.1381],\n",
      "        [ 0.9089,  2.6206,  2.2426],\n",
      "        [-0.4694, -0.3231, -0.3416]])\n"
     ]
    }
   ],
   "source": [
    "import torch\n",
    "B=torch.zeros(3)\n",
    "print(B,B.shape)\n",
    "W=torch.normal(0,1,(2,3))\n",
    "X=torch.normal(0,1,(4,2))\n",
    "print(torch.matmul(X,W)+B)\n"
   ]
  },
  {
   "cell_type": "code",
   "execution_count": 8,
   "metadata": {},
   "outputs": [
    {
     "name": "stdout",
     "output_type": "stream",
     "text": [
      "===================================\n",
      "[[[[ 1  2  3  4]\n",
      "   [ 5  6  7  8]\n",
      "   [ 9 10 11 12]]\n",
      "\n",
      "  [[13 14 15 16]\n",
      "   [17 18 19 20]\n",
      "   [21 22 23 24]]]\n",
      "\n",
      "\n",
      " [[[25 26 27 28]\n",
      "   [29 30 31 32]\n",
      "   [33 34 35 36]]\n",
      "\n",
      "  [[37 38 39 40]\n",
      "   [41 42 43 44]\n",
      "   [45 46 47 48]]]]\n",
      "(2, 2, 3, 4)\n",
      "===================================\n",
      "[[ 1  2  3  4]\n",
      " [ 5  6  7  8]\n",
      " [ 9 10 11 12]]\n",
      "(3, 4)\n",
      "===================================\n",
      "[[[[ 2  4  6  8]\n",
      "   [10 12 14 16]\n",
      "   [18 20 22 24]]\n",
      "\n",
      "  [[14 16 18 20]\n",
      "   [22 24 26 28]\n",
      "   [30 32 34 36]]]\n",
      "\n",
      "\n",
      " [[[26 28 30 32]\n",
      "   [34 36 38 40]\n",
      "   [42 44 46 48]]\n",
      "\n",
      "  [[38 40 42 44]\n",
      "   [46 48 50 52]\n",
      "   [54 56 58 60]]]]\n",
      "(2, 2, 3, 4)\n",
      "===================================\n",
      "[[[[ True  True  True  True]\n",
      "   [ True  True  True  True]\n",
      "   [ True  True  True  True]]\n",
      "\n",
      "  [[ True  True  True  True]\n",
      "   [ True  True  True  True]\n",
      "   [ True  True  True  True]]]\n",
      "\n",
      "\n",
      " [[[ True  True  True  True]\n",
      "   [ True  True  True  True]\n",
      "   [ True  True  True  True]]\n",
      "\n",
      "  [[ True  True  True  True]\n",
      "   [ True  True  True  True]\n",
      "   [ True  True  True  True]]]]\n"
     ]
    }
   ],
   "source": [
    "import numpy as np\n",
    "# a.shape=(2,2,3,4)\n",
    "a = np.arange(1,49).reshape((2,2,3,4))\n",
    "# b.shape=(3,4)\n",
    "b = np.arange(1,13).reshape((3,4))\n",
    "# numpy会将b.shape调整至(2,2,3,4), 这一步相当于numpy自动实现np.tile(b,[2,2,1,1])\n",
    "res = a + b\n",
    "print('===================================')\n",
    "print(a)\n",
    "print(a.shape)\n",
    "print('===================================')\n",
    "print(b)\n",
    "print(b.shape)\n",
    "print('===================================')\n",
    "print(res)\n",
    "print(res.shape)\n",
    "print('===================================')\n",
    "print(a+b == a + np.tile(b,[2,2,1,1]) )\n"
   ]
  },
  {
   "cell_type": "code",
   "execution_count": null,
   "metadata": {},
   "outputs": [],
   "source": []
  }
 ],
 "metadata": {
  "interpreter": {
   "hash": "da52a6595bb32b11c4641c0083e74d76fdb6e9bac2eb230ba1898f95245ebfa6"
  },
  "kernelspec": {
   "display_name": "Python 3.8.12 64-bit ('d2l': conda)",
   "language": "python",
   "name": "python3"
  },
  "language_info": {
   "codemirror_mode": {
    "name": "ipython",
    "version": 3
   },
   "file_extension": ".py",
   "mimetype": "text/x-python",
   "name": "python",
   "nbconvert_exporter": "python",
   "pygments_lexer": "ipython3",
   "version": "3.8.12"
  },
  "orig_nbformat": 4
 },
 "nbformat": 4,
 "nbformat_minor": 2
}
