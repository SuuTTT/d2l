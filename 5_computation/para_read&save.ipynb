{
 "cells": [
  {
   "cell_type": "code",
   "execution_count": 1,
   "metadata": {},
   "outputs": [
    {
     "data": {
      "text/plain": [
       "tensor([[0.1159],\n",
       "        [0.1159]], grad_fn=<AddmmBackward>)"
      ]
     },
     "execution_count": 1,
     "metadata": {},
     "output_type": "execute_result"
    }
   ],
   "source": [
    "import torch\n",
    "from torch import nn\n",
    "\n",
    "net=nn.Sequential(nn.Linear(4,8),nn.ReLU(),nn.Linear(8,1))\n",
    "X=torch.ones((2,4))\n",
    "net(X)"
   ]
  },
  {
   "cell_type": "code",
   "execution_count": 5,
   "metadata": {},
   "outputs": [
    {
     "name": "stdout",
     "output_type": "stream",
     "text": [
      "OrderedDict([('weight', tensor([[-0.0958, -0.1669,  0.1738, -0.1238],\n",
      "        [ 0.1542, -0.3612, -0.1939, -0.2898],\n",
      "        [-0.3141, -0.4290, -0.4160,  0.4810],\n",
      "        [ 0.2281,  0.1871,  0.0518, -0.4493],\n",
      "        [-0.3660,  0.1604,  0.1202,  0.1849],\n",
      "        [-0.1522, -0.3925, -0.0733,  0.0139],\n",
      "        [ 0.1780,  0.1424,  0.3374, -0.4434],\n",
      "        [ 0.1976,  0.4818,  0.0729, -0.2860]])), ('bias', tensor([-0.2941,  0.3805, -0.1116, -0.2840,  0.1466, -0.3177,  0.4697,  0.0669]))]) Parameter containing:\n",
      "tensor([[-0.0958, -0.1669,  0.1738, -0.1238],\n",
      "        [ 0.1542, -0.3612, -0.1939, -0.2898],\n",
      "        [-0.3141, -0.4290, -0.4160,  0.4810],\n",
      "        [ 0.2281,  0.1871,  0.0518, -0.4493],\n",
      "        [-0.3660,  0.1604,  0.1202,  0.1849],\n",
      "        [-0.1522, -0.3925, -0.0733,  0.0139],\n",
      "        [ 0.1780,  0.1424,  0.3374, -0.4434],\n",
      "        [ 0.1976,  0.4818,  0.0729, -0.2860]], requires_grad=True) <class 'torch.Tensor'> None\n"
     ]
    }
   ],
   "source": [
    "print(net[0].state_dict(),\n",
    "net[0].weight,\n",
    "type(net[0].weight.data),\n",
    "net[0].weight.grad,)"
   ]
  },
  {
   "cell_type": "code",
   "execution_count": 14,
   "metadata": {},
   "outputs": [
    {
     "name": "stdout",
     "output_type": "stream",
     "text": [
      "[('weight', Parameter containing:\n",
      "tensor([[-0.0958, -0.1669,  0.1738, -0.1238],\n",
      "        [ 0.1542, -0.3612, -0.1939, -0.2898],\n",
      "        [-0.3141, -0.4290, -0.4160,  0.4810],\n",
      "        [ 0.2281,  0.1871,  0.0518, -0.4493],\n",
      "        [-0.3660,  0.1604,  0.1202,  0.1849],\n",
      "        [-0.1522, -0.3925, -0.0733,  0.0139],\n",
      "        [ 0.1780,  0.1424,  0.3374, -0.4434],\n",
      "        [ 0.1976,  0.4818,  0.0729, -0.2860]], requires_grad=True)), ('bias', Parameter containing:\n",
      "tensor([-0.2941,  0.3805, -0.1116, -0.2840,  0.1466, -0.3177,  0.4697,  0.0669],\n",
      "       requires_grad=True))]\n",
      "('weight', Parameter containing:\n",
      "tensor([[-0.0958, -0.1669,  0.1738, -0.1238],\n",
      "        [ 0.1542, -0.3612, -0.1939, -0.2898],\n",
      "        [-0.3141, -0.4290, -0.4160,  0.4810],\n",
      "        [ 0.2281,  0.1871,  0.0518, -0.4493],\n",
      "        [-0.3660,  0.1604,  0.1202,  0.1849],\n",
      "        [-0.1522, -0.3925, -0.0733,  0.0139],\n",
      "        [ 0.1780,  0.1424,  0.3374, -0.4434],\n",
      "        [ 0.1976,  0.4818,  0.0729, -0.2860]], requires_grad=True)) ('bias', Parameter containing:\n",
      "tensor([-0.2941,  0.3805, -0.1116, -0.2840,  0.1466, -0.3177,  0.4697,  0.0669],\n",
      "       requires_grad=True))\n",
      "<class 'generator'>\n",
      "tensor([[[0., 0.],\n",
      "         [0., 0.]],\n",
      "\n",
      "        [[0., 0.],\n",
      "         [0., 0.]]]) tensor([[0., 0.],\n",
      "        [0., 0.]]) tensor([[0., 0.],\n",
      "        [0., 0.]])\n",
      "tensor([[0., 0.],\n",
      "        [0., 0.]]) tensor([[0., 0.],\n",
      "        [0., 0.]])\n"
     ]
    }
   ],
   "source": [
    "print([(name,para) for name,para in net[0].named_parameters()])\n",
    "print(*[(name,para) for name,para in net[0].named_parameters()])\n",
    "print(type(net[0].named_parameters()))\n",
    "print(X,*X)\n",
    "X=torch.zeros((2,2,2))\n",
    "print(*X)"
   ]
  },
  {
   "cell_type": "code",
   "execution_count": 15,
   "metadata": {},
   "outputs": [
    {
     "data": {
      "text/plain": [
       "OrderedDict([('0.weight',\n",
       "              tensor([[-0.0958, -0.1669,  0.1738, -0.1238],\n",
       "                      [ 0.1542, -0.3612, -0.1939, -0.2898],\n",
       "                      [-0.3141, -0.4290, -0.4160,  0.4810],\n",
       "                      [ 0.2281,  0.1871,  0.0518, -0.4493],\n",
       "                      [-0.3660,  0.1604,  0.1202,  0.1849],\n",
       "                      [-0.1522, -0.3925, -0.0733,  0.0139],\n",
       "                      [ 0.1780,  0.1424,  0.3374, -0.4434],\n",
       "                      [ 0.1976,  0.4818,  0.0729, -0.2860]])),\n",
       "             ('0.bias',\n",
       "              tensor([-0.2941,  0.3805, -0.1116, -0.2840,  0.1466, -0.3177,  0.4697,  0.0669])),\n",
       "             ('2.weight',\n",
       "              tensor([[ 0.1723,  0.0330,  0.2481,  0.0194, -0.3062, -0.1629,  0.1157,  0.1754]])),\n",
       "             ('2.bias', tensor([0.0185]))])"
      ]
     },
     "execution_count": 15,
     "metadata": {},
     "output_type": "execute_result"
    }
   ],
   "source": [
    "net.state_dict()"
   ]
  },
  {
   "cell_type": "code",
   "execution_count": 21,
   "metadata": {},
   "outputs": [
    {
     "name": "stdout",
     "output_type": "stream",
     "text": [
      "Sequential(\n",
      "  (0): Sequential(\n",
      "    (block0): Sequential(\n",
      "      (0): Linear(in_features=2, out_features=1, bias=True)\n",
      "      (1): ReLU()\n",
      "      (2): Linear(in_features=1, out_features=2, bias=True)\n",
      "      (3): ReLU()\n",
      "    )\n",
      "    (block1): Sequential(\n",
      "      (0): Linear(in_features=2, out_features=1, bias=True)\n",
      "      (1): ReLU()\n",
      "      (2): Linear(in_features=1, out_features=2, bias=True)\n",
      "      (3): ReLU()\n",
      "    )\n",
      "  )\n",
      "  (1): Linear(in_features=2, out_features=1, bias=True)\n",
      ")\n",
      "Parameter containing:\n",
      "tensor([-0.3992], requires_grad=True)\n"
     ]
    }
   ],
   "source": [
    "def block1():\n",
    "  net=nn.Sequential(nn.Linear(2,1),nn.ReLU(),nn.Linear(1,2),nn.ReLU())\n",
    "  return net\n",
    "def block2():\n",
    "  net=nn.Sequential()\n",
    "  for i in range(2):\n",
    "    net.add_module(f'block{i}',block1())\n",
    "  net=nn.Sequential(net,nn.Linear(2,1))\n",
    "  return net\n",
    "\n",
    "regnet=block2()\n",
    "print(regnet)\n",
    "print(regnet[0][1][0].bias)\n"
   ]
  },
  {
   "cell_type": "markdown",
   "metadata": {},
   "source": [
    "初始化"
   ]
  },
  {
   "cell_type": "code",
   "execution_count": 22,
   "metadata": {},
   "outputs": [
    {
     "data": {
      "text/plain": [
       "(tensor([[ 0.0079, -0.0046,  0.0054, -0.0153],\n",
       "         [-0.0123, -0.0044, -0.0056,  0.0108],\n",
       "         [-0.0045, -0.0043, -0.0135, -0.0117],\n",
       "         [ 0.0004,  0.0015, -0.0097, -0.0045],\n",
       "         [-0.0104, -0.0021,  0.0110, -0.0073],\n",
       "         [ 0.0163,  0.0030,  0.0055, -0.0137],\n",
       "         [-0.0235,  0.0145,  0.0058, -0.0112],\n",
       "         [-0.0019, -0.0050,  0.0055, -0.0116]]),\n",
       " tensor([0., 0., 0., 0., 0., 0., 0., 0.]))"
      ]
     },
     "execution_count": 22,
     "metadata": {},
     "output_type": "execute_result"
    }
   ],
   "source": [
    "def init_norm(m):\n",
    "  if (type(m)==nn.Linear):\n",
    "    nn.init.normal_(m.weight,0,0.01)\n",
    "    nn.init.zeros_(m.bias)\n",
    "\n",
    "net.apply(init_norm)\n",
    "net[0].weight.data,net[0].bias.data"
   ]
  },
  {
   "cell_type": "code",
   "execution_count": null,
   "metadata": {},
   "outputs": [],
   "source": [
    "#自定义初始化\n",
    "def my_init(m):\n",
    "    if type(m) == nn.Linear:\n",
    "        print(\"Init\", *[(name, param.shape)\n",
    "                        for name, param in m.named_parameters()][0])\n",
    "        nn.init.uniform_(m.weight, -10, 10)\n",
    "        m.weight.data *= m.weight.data.abs() >= 5\n",
    "\n",
    "net.apply(my_init)\n",
    "net[0].weight[:2]\n",
    "#直接赋值\n",
    "net[0].weight.data[:] += 1\n",
    "net[0].weight.data[0, 0] = 42\n",
    "net[0].weight.data[0]\n",
    "\n",
    "\n",
    "#共享参数\n",
    "# 我们需要给共享层一个名称，以便可以引用它的参数\n",
    "shared = nn.Linear(8, 8)\n",
    "net = nn.Sequential(nn.Linear(4, 8), nn.ReLU(),\n",
    "                    shared, nn.ReLU(),\n",
    "                    shared, nn.ReLU(),\n",
    "                    nn.Linear(8, 1))\n",
    "net(X)\n",
    "# 检查参数是否相同\n",
    "print(net[2].weight.data[0] == net[4].weight.data[0])\n",
    "net[2].weight.data[0, 0] = 100\n",
    "# 确保它们实际上是同一个对象，而不只是有相同的值\n",
    "print(net[2].weight.data[0] == net[4].weight.data[0])"
   ]
  },
  {
   "cell_type": "markdown",
   "metadata": {},
   "source": [
    "# 保存"
   ]
  },
  {
   "cell_type": "code",
   "execution_count": 3,
   "metadata": {},
   "outputs": [],
   "source": [
    "import torch\n",
    "x=torch.arange(4)\n",
    "torch.save(x,'x-file')\n",
    "x2=torch.load('x-file')"
   ]
  },
  {
   "cell_type": "code",
   "execution_count": 4,
   "metadata": {},
   "outputs": [
    {
     "name": "stdout",
     "output_type": "stream",
     "text": [
      "tensor([0, 1, 2, 3])\n"
     ]
    }
   ],
   "source": [
    "print(x2)"
   ]
  },
  {
   "cell_type": "code",
   "execution_count": null,
   "metadata": {},
   "outputs": [],
   "source": []
  }
 ],
 "metadata": {
  "interpreter": {
   "hash": "996a5e610904d34c377d92f469d8d0493e6171339ff9820ff1b3cb3ff50ffb76"
  },
  "kernelspec": {
   "display_name": "Python 3.8.12 64-bit ('d2l-22-1': conda)",
   "language": "python",
   "name": "python3"
  },
  "language_info": {
   "codemirror_mode": {
    "name": "ipython",
    "version": 3
   },
   "file_extension": ".py",
   "mimetype": "text/x-python",
   "name": "python",
   "nbconvert_exporter": "python",
   "pygments_lexer": "ipython3",
   "version": "3.8.12"
  },
  "orig_nbformat": 4
 },
 "nbformat": 4,
 "nbformat_minor": 2
}
